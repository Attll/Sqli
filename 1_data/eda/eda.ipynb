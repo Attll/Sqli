{
 "cells": [
  {
   "cell_type": "code",
   "execution_count": null,
   "id": "4f49e259",
   "metadata": {},
   "outputs": [],
   "source": [
    "import pandas as pd\n",
    "import numpy as np\n",
    "import matplotlib.pyplot as plt\n",
    "import seaborn as sns\n",
    "from collections import Counter\n",
    "import warnings\n",
    "warnings.filterwarnings('ignore')"
   ]
  },
  {
   "cell_type": "code",
   "execution_count": null,
   "id": "0b861513",
   "metadata": {},
   "outputs": [],
   "source": [
    "plt.style.use('seaborn-v0_8')\n",
    "%matplotlib inline"
   ]
  },
  {
   "cell_type": "code",
   "execution_count": null,
   "id": "3e760f39",
   "metadata": {},
   "outputs": [],
   "source": [
    "df=pd.read_csv('../../1_data/dataset/sqli.csv')"
   ]
  },
  {
   "cell_type": "code",
   "execution_count": null,
   "id": "539e37ef",
   "metadata": {},
   "outputs": [],
   "source": [
    "print(f\"Dataset Shape: {df.shape}\")\n",
    "print(f\"\\nColumns: {df.columns.tolist()}\")\n",
    "print(f\"\\nFirst few rows:\")\n",
    "df.head()"
   ]
  },
  {
   "cell_type": "code",
   "execution_count": null,
   "id": "2e577c63",
   "metadata": {},
   "outputs": [],
   "source": [
    "print(\"Data Types:\")\n",
    "print(df.dtypes)\n",
    "print(\"\\n\" + \"=\"*50)\n",
    "print(\"Missing Values:\")\n",
    "print(df.isnull().sum())\n",
    "print(\"\\n\" + \"=\"*50)\n",
    "print(\"Basic Statistics:\")\n",
    "df.describe()"
   ]
  },
  {
   "cell_type": "code",
   "execution_count": null,
   "id": "eff735d3",
   "metadata": {},
   "outputs": [],
   "source": [
    "print(\"Class Distribution:\")\n",
    "print(df['Label'].value_counts())\n",
    "print(\"\\nClass Proportions:\")\n",
    "print(df['Label'].value_counts(normalize=True))\n"
   ]
  },
  {
   "cell_type": "code",
   "execution_count": null,
   "id": "750f19ac",
   "metadata": {},
   "outputs": [],
   "source": [
    "plt.figure(figsize=(10, 5))\n",
    "sns.countplot(data=df, x='Label')\n",
    "plt.title('SQL Injection vs Normal Queries')\n",
    "plt.xlabel('Label (0=Normal, 1=SQLi)')\n",
    "plt.ylabel('Count')\n",
    "plt.show()"
   ]
  },
  {
   "cell_type": "code",
   "execution_count": null,
   "id": "84576c59",
   "metadata": {},
   "outputs": [],
   "source": [
    "df['query_length'] = df['Query'].str.len()"
   ]
  },
  {
   "cell_type": "code",
   "execution_count": null,
   "id": "0a2b1ae3",
   "metadata": {},
   "outputs": [],
   "source": [
    "plt.figure(figsize=(12, 5))\n",
    "plt.subplot(1, 2, 1)\n",
    "df[df['Label']==0]['query_length'].hist(bins=50, alpha=0.7, label='Normal')\n",
    "df[df['Label']==1]['query_length'].hist(bins=50, alpha=0.7, label='SQLi')\n",
    "plt.xlabel('Query Length')\n",
    "plt.ylabel('Frequency')\n",
    "plt.legend()\n",
    "plt.title('Query Length Distribution')\n",
    "\n",
    "plt.subplot(1, 2, 2)\n",
    "sns.boxplot(data=df, x='Label', y='query_length')\n",
    "plt.title('Query Length by Label')\n",
    "plt.show()"
   ]
  },
  {
   "cell_type": "code",
   "execution_count": null,
   "id": "6cc95350",
   "metadata": {},
   "outputs": [],
   "source": [
    "sqli_queries = df[df['Label']==1]['Query']\n"
   ]
  },
  {
   "cell_type": "code",
   "execution_count": null,
   "id": "3907f65b",
   "metadata": {},
   "outputs": [],
   "source": [
    "keywords = ['union', 'select', 'drop', 'insert', 'delete', \n",
    "            'update', 'or', 'and', '--', '/*', '*/', \n",
    "            'exec', 'execute', 'script', 'javascript']\n",
    "\n",
    "keyword_counts = {}\n",
    "for keyword in keywords:\n",
    "    count = sqli_queries.str.contains(keyword, case=False, regex=False).sum()\n",
    "    keyword_counts[keyword] = count\n",
    "\n",
    "plt.figure(figsize=(12, 6))\n",
    "plt.bar(keyword_counts.keys(), keyword_counts.values())\n",
    "plt.xlabel('Keyword')\n",
    "plt.ylabel('Frequency')\n",
    "plt.title('Common SQLi Keywords')\n",
    "plt.xticks(rotation=45)\n",
    "plt.tight_layout()\n",
    "plt.show()"
   ]
  },
  {
   "cell_type": "code",
   "execution_count": null,
   "id": "b7926478",
   "metadata": {},
   "outputs": [],
   "source": [
    "print(\"Sample Normal Queries:\")\n",
    "print(df[df['Label']==0]['Query'].head(10).tolist())\n",
    "print(\"\\n\" + \"=\"*80 + \"\\n\")\n",
    "print(\"Sample SQLi Queries:\")\n",
    "print(df[df['Label']==1]['Query'].head(10).tolist())"
   ]
  }
 ],
 "metadata": {
  "kernelspec": {
   "display_name": ".venv",
   "language": "python",
   "name": "python3"
  },
  "language_info": {
   "codemirror_mode": {
    "name": "ipython",
    "version": 3
   },
   "file_extension": ".py",
   "mimetype": "text/x-python",
   "name": "python",
   "nbconvert_exporter": "python",
   "pygments_lexer": "ipython3",
   "version": "3.13.9"
  }
 },
 "nbformat": 4,
 "nbformat_minor": 5
}
